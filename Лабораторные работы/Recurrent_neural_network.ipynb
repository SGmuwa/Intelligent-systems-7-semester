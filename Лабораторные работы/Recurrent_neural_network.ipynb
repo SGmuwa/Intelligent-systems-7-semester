{
 "cells": [
  {
   "cell_type": "code",
   "execution_count": 1,
   "metadata": {},
   "outputs": [],
   "source": [
    "import numpy as np"
   ]
  },
  {
   "cell_type": "code",
   "execution_count": 2,
   "metadata": {},
   "outputs": [],
   "source": [
    "class HopfieldNetwork:\n",
    "    def __init__(self,w_input, h_input):\n",
    "        self.weights = None\n",
    "        self.remembered_images = []\n",
    "        self.neurons_count = w_input*h_input\n",
    "        self.w_input = w_input\n",
    "        \n",
    "    \n",
    "    def _calculate_pseudoinverse_matrix(self,F):\n",
    "        '''Вычисление псевдоинверсной матрицы'''\n",
    "        F_t = F.transpose()\n",
    "        M_inv = np.linalg.inv((np.dot(F_t,F)))\n",
    "        F_plus = np.dot(M_inv,F_t)\n",
    "        return F_plus\n",
    "    \n",
    "    def _reshape(self,data):\n",
    "        data = np.array(data).transpose()\n",
    "        return data\n",
    "         \n",
    "    def signum_func(self,net):\n",
    "        if net>0:\n",
    "            return 1\n",
    "        elif net<0:\n",
    "            return -1\n",
    "        else:\n",
    "            return 0 #означает, что нужно сохранить предыдущее значение выхода\n",
    "        \n",
    "    def fit(self,train_data):\n",
    "        train_data = self._reshape(train_data)\n",
    "        train_data_plus = self._calculate_pseudoinverse_matrix(train_data)\n",
    "        self.weights = np.dot(train_data,train_data_plus)\n",
    "        np.fill_diagonal(self.weights, 0)\n",
    "    \n",
    "    \n",
    "    def _pred(self,td):\n",
    "        t=1\n",
    "        signum_func_vectorize = np.vectorize(self.signum_func)\n",
    "        td = np.array(td).transpose()\n",
    "        self._print_(t-1,td) \n",
    "        while(True):\n",
    "            td_temp = signum_func_vectorize( np.dot(self.weights,td))\n",
    "            if(0 in td_temp):\n",
    "                j,z = np.where( td_temp==0 ) \n",
    "                if (j.size and z.size) != 0: \n",
    "                    for m in range(j.size):\n",
    "                        td_temp[j][z] = td[j][z]\n",
    "            if(np.array_equal(td,td_temp)):\n",
    "                return td\n",
    "            else:\n",
    "                td = td_temp\n",
    "            self._print_(t,td_temp) \n",
    "            t+=1\n",
    "        self._print_(t,td)\n",
    "    \n",
    "#     def _pred(self,td):\n",
    "#         t=1\n",
    "#         td = np.array(td).transpose()\n",
    "#         self._print_(t-1,td) \n",
    "#         td_temp = td.copy()\n",
    "#         while(True):\n",
    "#             for i in range(self.neurons_count):\n",
    "#                 y_new = np.dot(self.weights[i],td_temp)\n",
    "#                 y_new = self.signum_func(y_new)\n",
    "#                 print(\"test\",y_new, td_temp[i])\n",
    "#                 if(y_new!=0):\n",
    "#                     td_temp[i] = y_new\n",
    "#                 if(np.array_equal(td,td_temp)):\n",
    "#                     print(\"РАвны\")\n",
    "#                     return\n",
    "#                 td  = td_temp\n",
    "    \n",
    "    def prediction(self, test_data):\n",
    "        print(test_data)\n",
    "        for el in test_data:\n",
    "            self._pred(el)\n",
    "       \n",
    "    def _print_(self, t, data):\n",
    "        print(str(t)+\"  \")\n",
    "        for i in range(0,data.size,self.w_input):\n",
    "            l = data[i:i+self.w_input ]\n",
    "            l = [\" \" if j==-1 else \"@\" for j in l]\n",
    "            print(l)\n",
    "        print(\"\\n\")"
   ]
  },
  {
   "cell_type": "code",
   "execution_count": 3,
   "metadata": {},
   "outputs": [],
   "source": [
    "train_obr =[]\n",
    "obraz0 = [-1,-1,-1,-1,-1,-1,-1,   -1,1,1,1,1,1,-1,   -1,1,-1,-1,-1,1,-1,   -1,1,-1,-1,-1,1,-1,-1,1,-1,-1,-1,1,-1,-1,1,-1,-1,-1,1,-1,-1,1,-1,-1,-1,1,-1,   -1,1,1,1,1,1,-1,   -1,-1,-1,-1,-1,-1,-1 ]; train_obr.append(obraz0)\n",
    "obraz1 = [-1,-1,-1,-1,-1,-1,-1,   -1,-1,-1,1,-1,-1,-1,   -1,-1,1,1,-1,-1,-1,   -1,-1,-1,1,-1,-1,-1,   -1,-1,-1,1,-1,-1,-1,   -1,-1,-1,1,-1,-1,-1,   -1,-1,-1,1,-1,-1,-1,    -1,1,1,1,1,1,-1,   -1,-1,-1,-1,-1,-1,-1 ]; train_obr.append(obraz1)\n",
    "obraz2 = [-1,-1,-1,-1,-1,-1,-1,   -1,1,1,1,1,1,-1,   -1,-1,-1,-1,-1,1,-1,    -1,-1,-1,-1,-1,1,-1,   -1,1,1,1,1,1,-1,   -1,1,-1,-1,-1,-1,-1,    1,1,-1,-1,-1,-1,-1,   -1,1,1,1,1,1,-1,   -1,-1,-1,-1,-1,-1,-1];train_obr.append(obraz2)\n",
    "obraz3 = [-1,-1,-1,-1,-1,-1,-1,   -1,1,1,1,1,1,-1,   -1,-1,-1,-1,-1,1,-1,     -1,-1,-1,-1,-1,1,-1,   -1,1,1,1,1,1,-1,   -1,-1,-1,-1,-1,1,-1,   -1,-1,-1,-1,-1,1,-1,    -1,1,1,1,1,1,-1,   -1,-1,-1,-1,-1,-1,-1 ];train_obr.append(obraz3)\n",
    "obraz4 = [-1,-1,-1,-1,-1,-1,-1,   -1,1,-1,-1,-1,1,-1,   -1,1,-1,-1,-1,1,-1,    -1,1,-1,-1,-1,1,-1,   -1,1,1,1,1,1,-1,   -1,-1,-1,-1,-1,1,-1,    -1,-1,-1,-1,-1,1,-1,  -1,-1,-1,-1,-1,1,-1,   -1,-1,-1,-1,-1,-1,-1];train_obr.append(obraz4)\n",
    "obraz5 = [-1,-1,-1,-1,-1,-1,-1,   -1,1,1,1,1,1,-1,   -1,1,-1,-1,-1,-1,-1,   -1,1,-1,-1,-1,-1,-1,    -1,1,1,1,1,1,-1,  -1,-1,-1,-1,-1,1,-1,   -1,-1,-1,-1,-1,1,-1,   -1,1,1,1,1,1,-1,  -1,-1,-1,-1,-1,-1,-1];train_obr.append(obraz5)\n",
    "obraz6 = [-1,-1,-1,-1,-1,-1,-1,   -1,1,1,1,1,1,-1,   -1,1,-1,-1,-1,-1,-1,   -1,1,-1,-1,-1,-1,-1,    -1,1,1,1,1,1,-1,   -1,1,-1,-1,-1,1,-1,   -1,1,-1,-1,-1,1,-1,   -1,1,1,1,1,1,-1,   -1,-1,-1,-1,-1,-1,-1];train_obr.append(obraz6)"
   ]
  },
  {
   "cell_type": "code",
   "execution_count": 4,
   "metadata": {},
   "outputs": [
    {
     "name": "stdout",
     "output_type": "stream",
     "text": [
      "[' ', '@', ' ', ' ', ' ', ' ', ' ']\n",
      "[' ', '@', ' ', ' ', ' ', '@', ' ']\n",
      "[' ', '@', ' ', ' ', ' ', '@', ' ']\n",
      "[' ', '@', '@', ' ', '@', '@', ' ']\n",
      "[' ', '@', '@', '@', '@', '@', ' ']\n",
      "[' ', ' ', ' ', '@', ' ', '@', ' ']\n",
      "[' ', ' ', '@', ' ', ' ', '@', ' ']\n",
      "[' ', ' ', ' ', ' ', ' ', '@', ' ']\n",
      "[' ', ' ', ' ', ' ', ' ', ' ', ' ']\n"
     ]
    }
   ],
   "source": [
    "test_obr =[]\n",
    "test_obraz1 = [1,-1,-1,-1,-1,-1,-1,     1,1,1,1,1,-1,-1,     -1,-1,-1,1,-1,-1,-1,   -1,-1,-1,1,1,-1,-1, -1,-1,1,1,-1,-1,-1, -1,-1,-1,1,-1,-1,-1, -1,-1,-1,1,1,-1,-1,    -1,1,1,1,1,1,-1,   -1,-1,-1,-1,-1,-1,1 ]; test_obr.append(test_obraz1)\n",
    "test_obraz0 = [1,1,-1,-1,-1,1,-1,   -1,1,1,1,1,1,-1,   -1,1,1,-1,1,1,-1,   -1,1,-1,-1,-1,1,-1, -1,1,-1,-1,-1,1,-1,-1,1,1,-1,1,1,-1,-1,1,-1,-1,-1,1,1,   -1,1,1,1,1,1,-1,   -1,-1,-1,1,-1,-1,-1 ]; test_obr.append(test_obraz0)\n",
    "test_obraz4 = [-1,1,-1,-1,-1,-1,-1,   -1,1,-1,-1,-1,1,-1,   -1,1,-1,-1,-1,1,-1,    -1,1,1,-1,1,1,-1,   -1,1,1,1,1,1,-1,   -1,-1,-1,1,-1,1,-1,    -1,-1,1,-1,-1,1,-1,  -1,-1,-1,-1,-1,1,-1,   -1,-1,-1,-1,-1,-1,-1];test_obr.append(test_obraz4)\n",
    "\n",
    "b = 7\n",
    "for i in range(0,len(test_obraz4),7):\n",
    "    l = test_obraz4[i:i+b]\n",
    "    l = [\" \" if j==-1 else \"@\" for j in l]\n",
    "    print(l)"
   ]
  },
  {
   "cell_type": "code",
   "execution_count": 5,
   "metadata": {},
   "outputs": [],
   "source": [
    "model = HopfieldNetwork(w_input = 7,h_input = 9 )\n",
    "model.fit(train_obr)"
   ]
  },
  {
   "cell_type": "code",
   "execution_count": 6,
   "metadata": {},
   "outputs": [
    {
     "name": "stdout",
     "output_type": "stream",
     "text": [
      "[[1, -1, -1, -1, -1, -1, -1, 1, 1, 1, 1, 1, -1, -1, -1, -1, -1, 1, -1, -1, -1, -1, -1, -1, 1, 1, -1, -1, -1, -1, 1, 1, -1, -1, -1, -1, -1, -1, 1, -1, -1, -1, -1, -1, -1, 1, 1, -1, -1, -1, 1, 1, 1, 1, 1, -1, -1, -1, -1, -1, -1, -1, 1], [1, 1, -1, -1, -1, 1, -1, -1, 1, 1, 1, 1, 1, -1, -1, 1, 1, -1, 1, 1, -1, -1, 1, -1, -1, -1, 1, -1, -1, 1, -1, -1, -1, 1, -1, -1, 1, 1, -1, 1, 1, -1, -1, 1, -1, -1, -1, 1, 1, -1, 1, 1, 1, 1, 1, -1, -1, -1, -1, 1, -1, -1, -1], [-1, 1, -1, -1, -1, -1, -1, -1, 1, -1, -1, -1, 1, -1, -1, 1, -1, -1, -1, 1, -1, -1, 1, 1, -1, 1, 1, -1, -1, 1, 1, 1, 1, 1, -1, -1, -1, -1, 1, -1, 1, -1, -1, -1, 1, -1, -1, 1, -1, -1, -1, -1, -1, -1, 1, -1, -1, -1, -1, -1, -1, -1, -1]]\n",
      "0  \n",
      "['@', ' ', ' ', ' ', ' ', ' ', ' ']\n",
      "['@', '@', '@', '@', '@', ' ', ' ']\n",
      "[' ', ' ', ' ', '@', ' ', ' ', ' ']\n",
      "[' ', ' ', ' ', '@', '@', ' ', ' ']\n",
      "[' ', ' ', '@', '@', ' ', ' ', ' ']\n",
      "[' ', ' ', ' ', '@', ' ', ' ', ' ']\n",
      "[' ', ' ', ' ', '@', '@', ' ', ' ']\n",
      "[' ', '@', '@', '@', '@', '@', ' ']\n",
      "[' ', ' ', ' ', ' ', ' ', ' ', '@']\n",
      "\n",
      "\n",
      "1  \n",
      "[' ', ' ', ' ', ' ', ' ', ' ', ' ']\n",
      "[' ', ' ', '@', '@', '@', ' ', ' ']\n",
      "[' ', ' ', '@', '@', ' ', ' ', ' ']\n",
      "[' ', ' ', ' ', '@', ' ', ' ', ' ']\n",
      "[' ', ' ', ' ', '@', '@', ' ', ' ']\n",
      "[' ', ' ', ' ', '@', ' ', ' ', ' ']\n",
      "[' ', ' ', ' ', '@', ' ', ' ', ' ']\n",
      "[' ', '@', '@', '@', '@', '@', ' ']\n",
      "[' ', ' ', ' ', ' ', ' ', ' ', ' ']\n",
      "\n",
      "\n",
      "2  \n",
      "[' ', ' ', ' ', ' ', ' ', ' ', ' ']\n",
      "[' ', ' ', ' ', '@', ' ', ' ', ' ']\n",
      "[' ', ' ', '@', '@', ' ', ' ', ' ']\n",
      "[' ', ' ', ' ', '@', ' ', ' ', ' ']\n",
      "[' ', ' ', ' ', '@', ' ', ' ', ' ']\n",
      "[' ', ' ', ' ', '@', ' ', ' ', ' ']\n",
      "[' ', ' ', ' ', '@', ' ', ' ', ' ']\n",
      "[' ', '@', '@', '@', '@', '@', ' ']\n",
      "[' ', ' ', ' ', ' ', ' ', ' ', ' ']\n",
      "\n",
      "\n",
      "0  \n",
      "['@', '@', ' ', ' ', ' ', '@', ' ']\n",
      "[' ', '@', '@', '@', '@', '@', ' ']\n",
      "[' ', '@', '@', ' ', '@', '@', ' ']\n",
      "[' ', '@', ' ', ' ', ' ', '@', ' ']\n",
      "[' ', '@', ' ', ' ', ' ', '@', ' ']\n",
      "[' ', '@', '@', ' ', '@', '@', ' ']\n",
      "[' ', '@', ' ', ' ', ' ', '@', '@']\n",
      "[' ', '@', '@', '@', '@', '@', ' ']\n",
      "[' ', ' ', ' ', '@', ' ', ' ', ' ']\n",
      "\n",
      "\n",
      "1  \n",
      "[' ', ' ', ' ', ' ', ' ', ' ', ' ']\n",
      "[' ', '@', '@', '@', '@', '@', ' ']\n",
      "[' ', '@', ' ', ' ', ' ', '@', ' ']\n",
      "[' ', '@', ' ', ' ', ' ', '@', ' ']\n",
      "[' ', '@', ' ', ' ', ' ', '@', ' ']\n",
      "[' ', '@', ' ', ' ', ' ', '@', ' ']\n",
      "[' ', '@', ' ', ' ', ' ', '@', ' ']\n",
      "[' ', '@', '@', '@', '@', '@', ' ']\n",
      "[' ', ' ', ' ', ' ', ' ', ' ', ' ']\n",
      "\n",
      "\n",
      "0  \n",
      "[' ', '@', ' ', ' ', ' ', ' ', ' ']\n",
      "[' ', '@', ' ', ' ', ' ', '@', ' ']\n",
      "[' ', '@', ' ', ' ', ' ', '@', ' ']\n",
      "[' ', '@', '@', ' ', '@', '@', ' ']\n",
      "[' ', '@', '@', '@', '@', '@', ' ']\n",
      "[' ', ' ', ' ', '@', ' ', '@', ' ']\n",
      "[' ', ' ', '@', ' ', ' ', '@', ' ']\n",
      "[' ', ' ', ' ', ' ', ' ', '@', ' ']\n",
      "[' ', ' ', ' ', ' ', ' ', ' ', ' ']\n",
      "\n",
      "\n",
      "1  \n",
      "[' ', ' ', ' ', ' ', ' ', ' ', ' ']\n",
      "[' ', '@', ' ', ' ', ' ', '@', ' ']\n",
      "[' ', '@', ' ', ' ', ' ', '@', ' ']\n",
      "[' ', '@', ' ', ' ', ' ', '@', ' ']\n",
      "[' ', '@', '@', '@', '@', '@', ' ']\n",
      "[' ', ' ', ' ', ' ', ' ', '@', ' ']\n",
      "[' ', ' ', ' ', ' ', ' ', '@', ' ']\n",
      "[' ', ' ', ' ', ' ', ' ', '@', ' ']\n",
      "[' ', ' ', ' ', ' ', ' ', ' ', ' ']\n",
      "\n",
      "\n"
     ]
    }
   ],
   "source": [
    "t = model.prediction(test_obr)"
   ]
  },
  {
   "cell_type": "code",
   "execution_count": null,
   "metadata": {},
   "outputs": [],
   "source": []
  },
  {
   "cell_type": "code",
   "execution_count": null,
   "metadata": {},
   "outputs": [],
   "source": []
  },
  {
   "cell_type": "code",
   "execution_count": null,
   "metadata": {},
   "outputs": [],
   "source": []
  },
  {
   "cell_type": "code",
   "execution_count": null,
   "metadata": {},
   "outputs": [],
   "source": []
  },
  {
   "cell_type": "code",
   "execution_count": null,
   "metadata": {},
   "outputs": [],
   "source": []
  },
  {
   "cell_type": "markdown",
   "metadata": {},
   "source": [
    "# Дополнительное"
   ]
  },
  {
   "cell_type": "code",
   "execution_count": 196,
   "metadata": {},
   "outputs": [
    {
     "name": "stdout",
     "output_type": "stream",
     "text": [
      "[-1 -1 -1 -1 -1 -1 -1 -1 -1 -1  1 -1 -1 -1 -1 -1  1  1 -1 -1 -1 -1 -1 -1  1 -1 -1 -1 -1 -1 -1  1 -1 -1 -1 -1 -1 -1  1 -1 -1 -1 -1 -1 -1  1 -1 -1 -1\n",
      " -1  1  1  1  1  1 -1 -1 -1 -1 -1 -1 -1 -1]\n",
      "[' ', ' ', ' ', ' ', ' ', ' ', ' ']\n",
      "[' ', ' ', ' ', '@', ' ', ' ', ' ']\n",
      "[' ', ' ', '@', '@', ' ', ' ', ' ']\n",
      "[' ', ' ', ' ', '@', ' ', ' ', ' ']\n",
      "[' ', ' ', ' ', '@', ' ', ' ', ' ']\n",
      "[' ', ' ', ' ', '@', ' ', ' ', ' ']\n",
      "[' ', ' ', ' ', '@', ' ', ' ', ' ']\n",
      "[' ', '@', '@', '@', '@', '@', ' ']\n",
      "[' ', ' ', ' ', ' ', ' ', ' ', ' ']\n"
     ]
    }
   ],
   "source": [
    "print(t)\n",
    "b = 7\n",
    "for i in range(0,t.size,7):\n",
    "    l = t[i:i+b]\n",
    "    l = [\" \" if j==-1 else \"@\" for j in l]\n",
    "    print(l)\n"
   ]
  },
  {
   "cell_type": "code",
   "execution_count": 72,
   "metadata": {},
   "outputs": [
    {
     "data": {
      "text/plain": [
       "True"
      ]
     },
     "execution_count": 72,
     "metadata": {},
     "output_type": "execute_result"
    }
   ],
   "source": [
    "a = np.array([[1],[0],[1]])\n",
    "b = np.array([[1],[0],[1]])\n",
    "np.array_equal(a,b)"
   ]
  },
  {
   "cell_type": "code",
   "execution_count": 54,
   "metadata": {},
   "outputs": [
    {
     "name": "stdout",
     "output_type": "stream",
     "text": [
      "[[ 4]\n",
      " [10]\n",
      " [16]]\n",
      "True\n",
      "[] []\n"
     ]
    }
   ],
   "source": [
    "W =  np.array([[1,2,3],\n",
    "               [4,5,6],\n",
    "               [7,8,9]])\n",
    "\n",
    "a = np.array([[1],[0],[1]])\n",
    "b = np.dot(W,a)\n",
    "print(b)\n",
    "\n",
    "\n",
    "b = np.array([[4],[10],[16],[4],[4]])\n",
    "\n",
    "if(4 in b):\n",
    "    print(True)\n",
    "    i,j = np.where( b==100 ) \n",
    "    print(i,j)\n",
    "else:\n",
    "    print(False)\n",
    "    "
   ]
  },
  {
   "cell_type": "code",
   "execution_count": 55,
   "metadata": {},
   "outputs": [
    {
     "name": "stdout",
     "output_type": "stream",
     "text": [
      "[[0 2 3]\n",
      " [4 0 6]\n",
      " [7 8 0]]\n"
     ]
    }
   ],
   "source": [
    "W =  np.array([[1,2,3],\n",
    "               [4,5,6],\n",
    "               [7,8,9]])\n",
    "np.fill_diagonal(W, 0)\n",
    "print(W)"
   ]
  },
  {
   "cell_type": "code",
   "execution_count": 116,
   "metadata": {},
   "outputs": [
    {
     "name": "stdout",
     "output_type": "stream",
     "text": [
      "[[-1]\n",
      " [-1]\n",
      " [ 1]\n",
      " [ 1]\n",
      " [ 1]]\n"
     ]
    }
   ],
   "source": [
    "def signum_func(net):\n",
    "        if net>0:\n",
    "            return 1\n",
    "        elif net<0:\n",
    "            return -1\n",
    "        else:\n",
    "            return 0 #означает, что нужно сохранить предыдущее значение выхода\n",
    "signum_func_vectorize = np.vectorize(signum_func)\n",
    "\n",
    "\n",
    "b = np.array([[-1],[-1],[1],[1],[1]])\n",
    "\n",
    "s = signum_func_vectorize(b)\n",
    "print(s)"
   ]
  }
 ],
 "metadata": {
  "kernelspec": {
   "display_name": "Python 3",
   "language": "python",
   "name": "python3"
  },
  "language_info": {
   "codemirror_mode": {
    "name": "ipython",
    "version": 3
   },
   "file_extension": ".py",
   "mimetype": "text/x-python",
   "name": "python",
   "nbconvert_exporter": "python",
   "pygments_lexer": "ipython3",
   "version": "3.7.3"
  }
 },
 "nbformat": 4,
 "nbformat_minor": 2
}
