{
 "cells": [
  {
   "cell_type": "code",
   "execution_count": 21,
   "metadata": {},
   "outputs": [],
   "source": [
    "import numpy as np\n",
    "import math"
   ]
  },
  {
   "cell_type": "code",
   "execution_count": 22,
   "metadata": {},
   "outputs": [],
   "source": [
    "class Neuron:\n",
    "    def __init__(self,i,j):\n",
    "        self.i = i\n",
    "        self.j = j\n",
    "        self.weights = None #равномерное распределение\n",
    "        \n",
    "    def set_weights(self,flag,N = 0, w = None):\n",
    "        if (flag == True):\n",
    "            self.weights = self._normalization(np.random.uniform(-0.5, 0.5, N))\n",
    "        else:\n",
    "            self.weights = w\n",
    "    def _normalization(self,mass):\n",
    "        length = ((mass**2).sum())**0.5\n",
    "        mass = mass/length\n",
    "        return mass\n",
    "\n",
    "    \n",
    "class SOM:\n",
    "    def __init__(self,h_map,w_map,input_N,T,sigma=2.24):\n",
    "        self.h_map = h_map\n",
    "        self.w_map = w_map\n",
    "        self.input_N = input_N\n",
    "        self.map_neurons = self._create_neurons_map(h_map,w_map,input_N)\n",
    "        self.win_neuron = None\n",
    "        self.sigma = sigma\n",
    "        self.T = T\n",
    "             \n",
    "    def _create_neurons_map(self,h_map,w_map,input_N):\n",
    "        \"\"\"Создание карты Кохонена\"\"\"\n",
    "        map_n = [[0 for x in range(w_map)] for y in range(h_map)]\n",
    "        for i in range(h_map):\n",
    "            for j in range(w_map):\n",
    "                map_n[i][j]=Neuron(i,j)\n",
    "                map_n[i][j].set_weights(N = input_N,flag = True)\n",
    "        return map_n\n",
    "        \n",
    "    def _get_learning_rate(self,t):\n",
    "        \"\"\"Скорость обучения\"\"\"\n",
    "        return 0.5**(t/self.T)\n",
    "    \n",
    "    def _get_distanse(self,W,X):\n",
    "        \"\"\"Растояние\"\"\"\n",
    "        return (sum((W-X)**2))**0.5\n",
    "        \n",
    "    def _winner_neuron(self,X):\n",
    "        \"\"\"Запопинаем нейрон победитель\"\"\"\n",
    "        win_neuron = self.map_neurons[0][0]\n",
    "        d_min = self._get_distanse(win_neuron.weights,X)\n",
    "        i_min,j_min = 0,0\n",
    "        \n",
    "        for i in range(self.h_map):\n",
    "            for j in range(1,self.w_map):\n",
    "                d = self._get_distanse(self.map_neurons[i][j].weights,X)\n",
    "                if(d<d_min):\n",
    "                    d_min = d\n",
    "                    i_min = i\n",
    "                    j_min = j\n",
    "                    win_neuron = self.map_neurons[i][j]\n",
    "        self.win_neuron = Neuron(i_min,j_min)\n",
    "        self.win_neuron.set_weights(flag = False, w = win_neuron.weights.copy())\n",
    "        #print(\"i_min, j_min\",i_min, j_min)\n",
    "        return i_min, j_min\n",
    "    \n",
    "    def _tuning_weights_of_neurons(self,X, t):\n",
    "        \"\"\"Настройка весов\"\"\"\n",
    "        for i in range(self.h_map):\n",
    "            for j in range(self.w_map):\n",
    "                W = self.map_neurons[i][j].weights.copy()\n",
    "                g = self._get_learning_rate(t)  *  self._neighborhood_function(t,i,j)\n",
    "                self.map_neurons[i][j].weights = W + g*(X-W)\n",
    "                \n",
    "    def _get_sigma(self,t):\n",
    "        \"\"\"Сигма\"\"\"\n",
    "        return self.sigma / (1 + t/self.T)\n",
    "    \n",
    "    def _neighborhood_function(self,t,i,j):\n",
    "        \"\"\"Функция соседства (сила связи между нейронами)\"\"\"\n",
    "        arr = np.array([i,j])\n",
    "        arr2 = np.array([self.win_neuron.i,self.win_neuron.j])\n",
    "        d = self._get_distanse(arr,arr2)\n",
    "               \n",
    "        b = 1/(2*self._get_sigma(t)**2)\n",
    "        return np.exp( (-1)*b*(d**2))\n",
    "        \n",
    "    def _normalization(self,mass):\n",
    "        \"\"\"Нормализация вектора\"\"\"\n",
    "        length = ((mass**2).sum())**0.5\n",
    "        mass = mass/length\n",
    "        return mass\n",
    "        \n",
    "    def fit(self,train_data):\n",
    "        \"\"\"Обучение\"\"\"\n",
    "        t = 0\n",
    "        train_data = self._normalization(train_data)\n",
    "        \n",
    "        for ep in range(self.T):\n",
    "            train_copy = train_data.copy() \n",
    "            while train_copy.shape[0]:\n",
    "                random_index = int(np.random.choice(np.arange(train_copy.shape[0])))\n",
    "                self._winner_neuron(train_copy[random_index])\n",
    "                self._tuning_weights_of_neurons(train_copy[random_index], t)\n",
    "                \n",
    "                train_copy = np.delete(train_copy, (random_index), axis=0) \n",
    "            t+=1\n",
    "    def predict(self,test_data):\n",
    "        \"\"\"Предсказание\"\"\"\n",
    "        map_result = [[\"\" for x in range(self.w_map)] for y in range(self.h_map)]\n",
    "        for ind,el in enumerate(test_data):\n",
    "            i,j = self._winner_neuron(el)\n",
    "            #print(i,j)\n",
    "            map_result[i][j] += \"\"+str(ind)+\" \"\n",
    "        return map_result\n",
    "            \n",
    "#Нормализация входных данных\n",
    "#Нормализвция весов\n",
    "            \n",
    "        \n",
    "model = SOM(input_N = 29, h_map = 10, w_map = 10, T = 30)"
   ]
  },
  {
   "cell_type": "code",
   "execution_count": 28,
   "metadata": {},
   "outputs": [
    {
     "name": "stdout",
     "output_type": "stream",
     "text": [
      "[[0.2 0.  0.  0.  0.  0.  0.  0.  0.  0.  0.  0.  0.  0.  0.  0.  0.  0.  0.  0.  0.  0.  0.  0.  0.  0.  0.  0.  0. ]\n",
      " [0.  0.2 0.  0.  0.  0.  0.  0.  0.  0.  0.  0.  0.  0.  0.  0.  0.  0.  0.  0.  0.  0.  0.  0.  0.  0.  0.  0.  0. ]\n",
      " [0.  0.  0.2 0.  0.  0.  0.  0.  0.  0.  0.  0.  0.  0.  0.  0.  0.  0.  0.  0.  0.  0.  0.  0.  0.  0.  0.  0.  0. ]\n",
      " [0.  0.  0.  0.2 0.  0.  0.  0.  0.  0.  0.  0.  0.  0.  0.  0.  0.  0.  0.  0.  0.  0.  0.  0.  0.  0.  0.  0.  0. ]\n",
      " [0.  0.  0.  0.  0.2 0.  0.  0.  0.  0.  0.  0.  0.  0.  0.  0.  0.  0.  0.  0.  0.  0.  0.  0.  0.  0.  0.  0.  0. ]\n",
      " [0.  0.  0.  0.  0.  0.2 0.  0.  0.  0.  0.  0.  0.  0.  0.  0.  0.  0.  0.  0.  0.  0.  0.  0.  0.  0.  0.  0.  0. ]\n",
      " [0.  0.  0.  0.  0.  0.  0.2 0.  0.  0.  0.  0.  0.  0.  0.  0.  0.  0.  0.  0.  0.  0.  0.  0.  0.  0.  0.  0.  0. ]\n",
      " [0.  0.  0.  0.  0.  0.  0.  0.2 0.  0.  0.  0.  0.  0.  0.  0.  0.  0.  0.  0.  0.  0.  0.  0.  0.  0.  0.  0.  0. ]\n",
      " [0.  0.  0.  0.  0.  0.  0.  0.  0.2 0.  0.  0.  0.  0.  0.  0.  0.  0.  0.  0.  0.  0.  0.  0.  0.  0.  0.  0.  0. ]\n",
      " [0.  0.  0.  0.  0.  0.  0.  0.  0.  0.2 0.  0.  0.  0.  0.  0.  0.  0.  0.  0.  0.  0.  0.  0.  0.  0.  0.  0.  0. ]\n",
      " [0.  0.  0.  0.  0.  0.  0.  0.  0.  0.  0.2 0.  0.  0.  0.  0.  0.  0.  0.  0.  0.  0.  0.  0.  0.  0.  0.  0.  0. ]\n",
      " [0.  0.  0.  0.  0.  0.  0.  0.  0.  0.  0.  0.2 0.  0.  0.  0.  0.  0.  0.  0.  0.  0.  0.  0.  0.  0.  0.  0.  0. ]\n",
      " [0.  0.  0.  0.  0.  0.  0.  0.  0.  0.  0.  0.  0.2 0.  0.  0.  0.  0.  0.  0.  0.  0.  0.  0.  0.  0.  0.  0.  0. ]\n",
      " [0.  0.  0.  0.  0.  0.  0.  0.  0.  0.  0.  0.  0.  0.2 0.  0.  0.  0.  0.  0.  0.  0.  0.  0.  0.  0.  0.  0.  0. ]\n",
      " [0.  0.  0.  0.  0.  0.  0.  0.  0.  0.  0.  0.  0.  0.  0.2 0.  0.  0.  0.  0.  0.  0.  0.  0.  0.  0.  0.  0.  0. ]\n",
      " [0.  0.  0.  0.  0.  0.  0.  0.  0.  0.  0.  0.  0.  0.  0.  0.2 0.  0.  0.  0.  0.  0.  0.  0.  0.  0.  0.  0.  0. ]]\n"
     ]
    }
   ],
   "source": [
    "train_data = [\n",
    "    [1,0,0,  1,0,0,0,0,1,  0,0,1,0],\n",
    "    [1,0,0,  1,0,0,0,0,1,  0,0,0,0],\n",
    "    [1,0,0,  1,0,0,0,0,1,  0,0,0,1],\n",
    "    [1,0,0,  1,0,0,0,0,1,  0,0,1,1],\n",
    "    [1,0,0,  1,0,0,0,0,1,  1,0,1,0],\n",
    "    [1,0,0,  1,0,0,0,0,1,  1,0,1,0],\n",
    "    [0,1,0,  1,0,0,0,0,1,  1,0,1,0],\n",
    "    [0,1,0,  0,1,1,0,0,0,  1,0,0,0],\n",
    "    [0,1,0,  0,1,1,0,0,0,  0,1,0,0],\n",
    "    [0,1,0,  0,1,1,0,1,0,  1,1,0,0],\n",
    "    [1,0,0,  0,1,1,0,0,0,  1,0,0,0],\n",
    "    [0,0,1,  0,1,1,0,0,0,  1,1,0,0],\n",
    "    [0,0,1,  0,1,1,0,1,0,  1,1,0,0],\n",
    "    [0,0,1,  0,1,1,1,1,0,  0,1,0,0],\n",
    "    [0,0,1,  0,1,1,1,1,0,  0,1,0,0],\n",
    "    [0,0,1,  0,1,1,1,0,0,  0,0,0,0]\n",
    "]\n",
    "y = [\"Голубь\",\"Курица\",\"Утка\",\"Гусь\",\"Сова\",\"Ястреб\",\"Орел\",\"Лиса\",\"Собака\",\"Волк\",\"Кошка\",\"Тигр\",\"Лев\",\"Лошадь\",\"Зебра\",\"Корова\"]\n",
    "\n",
    "a = 0.2\n",
    "test_data = train_data.copy()\n",
    "for i in range(len(test_data)):\n",
    "    l = [0 for j in range(len(test_data[i]))]\n",
    "    test_data[i] =[a if j==i else 0  for j in range(len(test_data))] + l\n",
    "test_data = np.array(test_data)\n",
    "print(test_data)\n",
    "\n",
    "\n",
    "for i in range(len(train_data)):\n",
    "    train_data[i] =[a if j==i else 0  for j in range(len(train_data))]+train_data[i]\n",
    "train_data = np.array(train_data)\n",
    "\n",
    "\n"
   ]
  },
  {
   "cell_type": "code",
   "execution_count": 29,
   "metadata": {
    "scrolled": false
   },
   "outputs": [
    {
     "name": "stdout",
     "output_type": "stream",
     "text": [
      "[['3 ', '2 ', '', '', '', '', '15 ', '', '', '13 '], ['', '', '', '', '', '', '', '', '', '14 '], ['', '', '1 ', '', '', '', '', '', '', ''], ['', '0 ', '', '', '', '', '', '', '', ''], ['', '', '', '', '', '', '', '11 ', '', '12 '], ['', '', '', '', '10 ', '', '', '', '', ''], ['', '', '', '', '', '', '', '', '', ''], ['', '4 5 ', '', '', '', '', '7 ', '', '', '9 '], ['', '', '', '', '', '', '', '', '', ''], ['', '', '', '6 ', '', '', '', '', '8 ', '']]\n"
     ]
    }
   ],
   "source": [
    "model.fit(train_data)\n",
    "map_res = model.predict(train_data)\n",
    "print(map_res)"
   ]
  },
  {
   "cell_type": "code",
   "execution_count": 30,
   "metadata": {},
   "outputs": [
    {
     "name": "stdout",
     "output_type": "stream",
     "text": [
      "[['Гусь' 'Утка' '   *   ' '   *   ' '   *   ' '   *   ' 'Корова' '   *   ' '   *   ' 'Лошадь']\n",
      " ['   *   ' '   *   ' '   *   ' '   *   ' '   *   ' '   *   ' '   *   ' '   *   ' '   *   ' 'Зебра']\n",
      " ['   *   ' '   *   ' 'Курица' '   *   ' '   *   ' '   *   ' '   *   ' '   *   ' '   *   ' '   *   ']\n",
      " ['   *   ' 'Голубь' '   *   ' '   *   ' '   *   ' '   *   ' '   *   ' '   *   ' '   *   ' '   *   ']\n",
      " ['   *   ' '   *   ' '   *   ' '   *   ' '   *   ' '   *   ' '   *   ' 'Тигр' '   *   ' 'Лев']\n",
      " ['   *   ' '   *   ' '   *   ' '   *   ' 'Кошка' '   *   ' '   *   ' '   *   ' '   *   ' '   *   ']\n",
      " ['   *   ' '   *   ' '   *   ' '   *   ' '   *   ' '   *   ' '   *   ' '   *   ' '   *   ' '   *   ']\n",
      " ['   *   ' 'СоваЯстреб' '   *   ' '   *   ' '   *   ' '   *   ' 'Лиса' '   *   ' '   *   ' 'Волк']\n",
      " ['   *   ' '   *   ' '   *   ' '   *   ' '   *   ' '   *   ' '   *   ' '   *   ' '   *   ' '   *   ']\n",
      " ['   *   ' '   *   ' '   *   ' 'Орел' '   *   ' '   *   ' '   *   ' '   *   ' 'Собака' '   *   ']]\n"
     ]
    }
   ],
   "source": [
    "for i in range(len(map_res)):\n",
    "    for j in range(len(map_res[0])):\n",
    "        if(map_res[i][j] != ''):\n",
    "            l =  map_res[i][j].rstrip().split(\" \")\n",
    "            map_res[i][j] = \"\"\n",
    "            for u in range(len(l)):\n",
    "                int_s = int(l[u])\n",
    "                map_res[i][j] += y[int_s]\n",
    "        else:\n",
    "            map_res[i][j] = \"   *   \"\n",
    "np.set_printoptions(linewidth = 150)\n",
    "map_res = np.array(map_res)\n",
    "print(map_res)"
   ]
  },
  {
   "cell_type": "markdown",
   "metadata": {},
   "source": [
    "# Гипперпараметры карты Кохонена"
   ]
  },
  {
   "cell_type": "code",
   "execution_count": 33,
   "metadata": {},
   "outputs": [
    {
     "data": {
      "image/png": "[encoded data removed]",
      "text/plain": [
       "<Figure size 432x288 with 1 Axes>"
      ]
     },
     "metadata": {
      "needs_background": "light"
     },
     "output_type": "display_data"
    }
   ],
   "source": [
    "#Как уменьшается скорость обучения\n",
    "#Показательный закон\n",
    "import matplotlib.pyplot as plt\n",
    "x = np.linspace(0,100)\n",
    "y = 0.01 ** (x/100)\n",
    "\n",
    "plt.title(\"График зависимости входной переменной X от Y\") # заголовок\n",
    "plt.plot(x,y) # построение графика\n",
    "plt.xlabel(\"x\") # ось абсцисс\n",
    "plt.ylabel(\"y\") # ось ординат\n",
    "plt.grid()      # включение отображение сетки\n"
   ]
  },
  {
   "cell_type": "code",
   "execution_count": 32,
   "metadata": {},
   "outputs": [
    {
     "name": "stdout",
     "output_type": "stream",
     "text": [
      "0.09964923469387754 5.017600000000001\n"
     ]
    },
    {
     "data": {
      "image/png": "[encoded data removed]",
      "text/plain": [
       "<Figure size 432x288 with 1 Axes>"
      ]
     },
     "metadata": {
      "needs_background": "light"
     },
     "output_type": "display_data"
    }
   ],
   "source": [
    "#Как уменьшается скорость обучения\n",
    "#Показательный закон\n",
    "import matplotlib.pyplot as plt\n",
    "import math\n",
    "x = np.linspace(0,13)\n",
    "sigma = 2.24\n",
    "b = 1/(2*sigma**2)\n",
    "print(b,sigma**2)\n",
    "y = np.exp( (-1)*b*(x**2)    )\n",
    "plt.title(\"Как уменьшается скорость обучения\") # заголовок\n",
    "plt.plot(x,y) # построение графика\n",
    "plt.xlabel(\"x\") # ось абсцисс\n",
    "plt.ylabel(\"y\") # ось ординат\n",
    "plt.grid()      # включение отображение сетки"
   ]
  }
 ],
 "metadata": {
  "kernelspec": {
   "display_name": "Python 3",
   "language": "python",
   "name": "python3"
  },
  "language_info": {
   "codemirror_mode": {
    "name": "ipython",
    "version": 3
   },
   "file_extension": ".py",
   "mimetype": "text/x-python",
   "name": "python",
   "nbconvert_exporter": "python",
   "pygments_lexer": "ipython3",
   "version": "3.7.3"
  }
 },
 "nbformat": 4,
 "nbformat_minor": 2
}
