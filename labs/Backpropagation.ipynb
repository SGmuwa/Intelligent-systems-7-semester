{
 "cells": [
  {
   "cell_type": "code",
   "execution_count": 1,
   "metadata": {},
   "outputs": [],
   "source": [
    "import numpy as np\n",
    "import sys\n",
    "\n",
    "INPUT_NEURON = 4\n",
    "HID_NEURON = 3\n",
    "OUTPUT_NEURON = 4\n",
    "\n",
    "class Neurocontroller:\n",
    "    def __init__(self, learning_rate=0.2):\n",
    "        self.weights_0_1 = np.random.uniform(-0.5, 0.5, (5, 3)) #равномерное распределение\n",
    "        self.weights_1_2 = np.random.uniform(-0.5, 0.5, (4, 4)) #равномерное распределение\n",
    "        self.sigmoid_mapper = np.vectorize(self.sigmoid) #Позволяет пробежаться по вектору, и к каждому элементу применить сигмоидную функцию\n",
    "        self.learning_rate = np.array([learning_rate])\n",
    "    def sigmoid(self, x):\n",
    "        return 1 / (1 + np.exp(-x))\n",
    "    \n",
    "    def sigmoid_derivative(self, val):\n",
    "        return ( val * (1 - val) )\n",
    "\n",
    "    #Прямой проход\n",
    "    def predict(self, inputs):\n",
    "        #Вычисляем вход в скрытый слой и выход из него\n",
    "        inputs = np.append(inputs, 1)#Дополнительный вход для смещения\n",
    "        inputs_1 = np.dot(inputs,self.weights_0_1) #Умножаем веса на входные значения\n",
    "        outputs_1 = self.sigmoid_mapper(inputs_1)\n",
    "        #Вычисляем вход в выходной слой и выход из него\n",
    "        outputs_1 = np.append(outputs_1, 1)#Дополнительный вход для смещения\n",
    "        inputs_2 = np.dot(outputs_1,self.weights_1_2)\n",
    "        outputs_2 = self.sigmoid_mapper(inputs_2)\n",
    "        return outputs_2\n",
    "\n",
    "    def fit(self, inputs, target_predict):\n",
    "        \n",
    "        #Вычисляем вход в скрытый слой и выход из него\n",
    "        inputs = np.append(inputs, 1)#Дополнительный вход для смещения\n",
    "        inputs_1 = np.dot(inputs,self.weights_0_1) #Умножаем веса на входные значения\n",
    "        outputs_1 = self.sigmoid_mapper(inputs_1)\n",
    "        \n",
    "        #Вычисляем вход в выходной слой и выход из него\n",
    "        outputs_1  = np.append(outputs_1, 1)#Дополнительный вход для смещения\n",
    "        inputs_2 = np.dot(outputs_1,self.weights_1_2)\n",
    "        outputs_2 = self.sigmoid_mapper(inputs_2)\n",
    "        fact_predict_out = outputs_2\n",
    "\n",
    "        error_out = np.array([])\n",
    "        #Вычислить ошибку для выходного слоя\n",
    "        for o in range(OUTPUT_NEURON):\n",
    "            error_out = np.append(error_out,(target_predict[o] - fact_predict_out[o]) * self.sigmoid_derivative(fact_predict_out[o]))\n",
    "        \n",
    "        sum = 0\n",
    "        error_hid = np.array([])\n",
    "        #Вычислить ошибку для срытого слоя\n",
    "        for i in range(HID_NEURON):\n",
    "            temp_sum = error_out * self.weights_1_2[i,:] # Пройтись по строкам\n",
    "            sum = np.sum(temp_sum)\n",
    "            error_hid = np.append(error_hid, self.sigmoid_derivative(outputs_1[i]) * sum);\n",
    "        \n",
    "        \n",
    "        \n",
    "        #Обновить веса для соединений скрытый слой - выходной слой\n",
    "        #обновить смещения для нейронов выходного слоя\n",
    "        #выходы из скрытого : outputs_1\n",
    "        #oшибка выходного слоя : error_out\n",
    "        for i in range(OUTPUT_NEURON):\n",
    "            self.weights_1_2[:,i]+=self.learning_rate*error_out[i]*outputs_1\n",
    "        \n",
    "        #Обновить веса для входной слой - скрытого слоя\n",
    "        #Выходы из входного слоя inputs\n",
    "        #Обновить смещения для нейронов скрытого слоя\n",
    "        for i in range(HID_NEURON):\n",
    "            self.weights_0_1[:,i]+=self.learning_rate*error_hid[i]*inputs"
   ]
  },
  {
   "cell_type": "code",
   "execution_count": 2,
   "metadata": {},
   "outputs": [],
   "source": [
    "def MSE(d, y):\n",
    "    return 0.5 * np.sum((d-y)**2)\n",
    "train_data = [\n",
    "    ([2, 0, 0, 0], [0,0,1,0]),\n",
    "    ([2,0,0,1], [0,0,1,0]),\n",
    "    ([2,0,1,1], [1,0,0,0]),\n",
    "    ([2,0,1,2], [1,0,0,0]),\n",
    "    ([2,1,0,2], [0,0,0,1]),\n",
    "    ([2,1,0,1], [1,0,0,0]),\n",
    "    ([1,0,0,0], [0,0,1,0]),\n",
    "    ([1,0,0,1], [0,0,0,1]),\n",
    "    ([1,0,1,1], [1,0,0,0]),\n",
    "    ([1,0,1,2], [0,0,0,1]),\n",
    "    ([1,1,0,2], [0,0,0,1]),\n",
    "    ([1,1,0,1], [0,0,0,1]),\n",
    "    \n",
    "    ([0,0,0,0], [0,0,1,0]),\n",
    "    ([0,0,0,1], [0,0,0,1]),\n",
    "    ([0,0,1,1], [0,0,0,1]),\n",
    "    ([0,0,1,2], [0,1,0,0]),\n",
    "    ([0,1,0,2], [0,1,0,0]),\n",
    "    ([0,1,0,1], [0,0,0,1]),\n",
    "]\n",
    "\n",
    "#атаковать бежать бродить/уворачиваться прятаться\n",
    "action = [\"Attack\", \"Run\", \"Wander\", \"Hide\"]\n"
   ]
  },
  {
   "cell_type": "code",
   "execution_count": 9,
   "metadata": {
    "scrolled": false
   },
   "outputs": [
    {
     "name": "stdout",
     "output_type": "stream",
     "text": [
      "Progress: 99.8, Training loss: 0.504"
     ]
    }
   ],
   "source": [
    "#Обучение и тестирование нейроконтроллера\n",
    "epochs = 500\n",
    "learning_rate = 0.2\n",
    "network = Neurocontroller(learning_rate=learning_rate)\n",
    "\n",
    "for ep in range(epochs):\n",
    "    inputs_ = []\n",
    "    correct_predictions = []\n",
    "    for input_stat, correct_predict in train_data:\n",
    "        \n",
    "        #Ошибка на входном векторе\n",
    "        i_loss = MSE(network.predict(np.array(input_stat)), np.array(correct_predict))\n",
    "        #sys.stdout.write(\"\\r {}, i_loss: {}\".format(str(100 * ep/float(epochs))[:4], str(i_loss)[:5]))\n",
    "        \n",
    "        #Train\n",
    "        network.fit(np.array(input_stat).T, np.array(correct_predict))\n",
    "        \n",
    "        inputs_.append(np.array(input_stat))\n",
    "        correct_predictions.append(np.array(correct_predict))\n",
    "      \n",
    "    #print(correct_predictions)\n",
    "    #Считаем ошибку после эпохи\n",
    "    train_loss = 0\n",
    "    for m in range(len(inputs_)):\n",
    "        train_loss += MSE(network.predict(np.array(inputs_[m])), np.array(correct_predictions[m]))\n",
    "    sys.stdout.write(\"\\rProgress: {}, Training loss: {}\".format(str(100 * ep/float(epochs))[:4], str(train_loss)[:5]))\n",
    "        \n"
   ]
  },
  {
   "cell_type": "code",
   "execution_count": 20,
   "metadata": {},
   "outputs": [
    {
     "name": "stdout",
     "output_type": "stream",
     "text": [
      "For input: [2, 0, 0, 0] the prediction is: Wander, expected: Wander\n",
      "For input: [2, 0, 0, 1] the prediction is: Wander, expected: Wander\n",
      "For input: [2, 0, 1, 1] the prediction is: Attack, expected: Attack\n",
      "For input: [2, 0, 1, 2] the prediction is: Attack, expected: Attack\n",
      "For input: [2, 1, 0, 2] the prediction is: Hide, expected: Hide\n",
      "For input: [2, 1, 0, 1] the prediction is: Attack, expected: Attack\n",
      "For input: [1, 0, 0, 0] the prediction is: Wander, expected: Wander\n",
      "For input: [1, 0, 0, 1] the prediction is: Hide, expected: Hide\n",
      "For input: [1, 0, 1, 1] the prediction is: Attack, expected: Attack\n",
      "For input: [1, 0, 1, 2] the prediction is: Hide, expected: Hide\n",
      "For input: [1, 1, 0, 2] the prediction is: Hide, expected: Hide\n",
      "For input: [1, 1, 0, 1] the prediction is: Hide, expected: Hide\n",
      "For input: [0, 0, 0, 0] the prediction is: Wander, expected: Wander\n",
      "For input: [0, 0, 0, 1] the prediction is: Hide, expected: Hide\n",
      "For input: [0, 0, 1, 1] the prediction is: Hide, expected: Hide\n",
      "For input: [0, 0, 1, 2] the prediction is: Run, expected: Run\n",
      "For input: [0, 1, 0, 2] the prediction is: Run, expected: Run\n",
      "For input: [0, 1, 0, 1] the prediction is: Hide, expected: Hide\n"
     ]
    }
   ],
   "source": [
    "#Проверяем сеть\n",
    "for input_stat, correct_predict in train_data:\n",
    "    print(\"For input: {} the prediction is: {}, expected: {}\".format(\n",
    "        str(input_stat),\n",
    "        str(action[network.predict(np.array(input_stat)).argmax()]),\n",
    "        str(action[np.array(correct_predict).argmax()])))"
   ]
  },
  {
   "cell_type": "code",
   "execution_count": 21,
   "metadata": {},
   "outputs": [
    {
     "name": "stdout",
     "output_type": "stream",
     "text": [
      "For input: [2, 1, 1, 1] the prediction is: Attack, expected: Attack\n",
      "For input: [1, 1, 1, 2] the prediction is: Hide, expected: Hide\n",
      "For input: [0, 0, 0, 0] the prediction is: Wander, expected: Wander\n",
      "For input: [0, 1, 1, 1] the prediction is: Hide, expected: Hide\n",
      "For input: [2, 0, 1, 3] the prediction is: Hide, expected: Hide\n",
      "For input: [2, 1, 0, 3] the prediction is: Hide, expected: Hide\n",
      "For input: [0, 1, 0, 3] the prediction is: Run, expected: Run\n"
     ]
    }
   ],
   "source": [
    "#Прогон на тестовых данных\n",
    "#атаковать бежать бродить прятаться\n",
    "action = [\"Attack\", \"Run\", \"Wander\", \"Hide\"]\n",
    "test_data = [\n",
    "    ([2, 1, 1, 1], [1,0,0,0]),\n",
    "    ([1,1,1,2], [0,0,0,1]),\n",
    "    ([0,0,0,0], [0,0,1,0]),\n",
    "    ([0,1,1,1], [0,0,0,1]),\n",
    "    ([2,0,1,3], [0,0,0,1]),\n",
    "    ([2,1,0,3], [0,0,0,1]),\n",
    "    ([0,1,0,3], [0,1,0,0]),\n",
    "    \n",
    "]\n",
    "for input_stat, correct_predict in test_data:\n",
    "    print(\"For input: {} the prediction is: {}, expected: {}\".format(\n",
    "        str(input_stat), \n",
    "        str(action[network.predict(np.array(input_stat)).argmax()]),\n",
    "        str(action[np.array(correct_predict).argmax()])))\n",
    "#         str(network.direct_distribution(np.array(input_stat))),\n",
    "#         str(np.array(correct_predict))))"
   ]
  },
  {
   "cell_type": "code",
   "execution_count": 13,
   "metadata": {},
   "outputs": [
    {
     "data": {
      "text/plain": [
       "18"
      ]
     },
     "execution_count": 13,
     "metadata": {},
     "output_type": "execute_result"
    }
   ],
   "source": [
    "len(train_data)"
   ]
  },
  {
   "cell_type": "code",
   "execution_count": null,
   "metadata": {},
   "outputs": [],
   "source": []
  },
  {
   "cell_type": "code",
   "execution_count": 2,
   "metadata": {},
   "outputs": [
    {
     "name": "stdout",
     "output_type": "stream",
     "text": [
      "[[ 0.10761236 -0.40999681 -0.08251098]\n",
      " [ 0.13300704  0.49957307  0.25933433]\n",
      " [ 0.08303307  0.36907027 -0.1481706 ]\n",
      " [ 0.01834851 -0.31871495 -0.47966446]\n",
      " [ 0.26472631  0.32282889  0.10889235]]\n",
      "[ 2.01975127  2.0356448  -1.38255021]\n"
     ]
    }
   ],
   "source": [
    "import numpy as np\n",
    "import sys\n",
    "weights_0_1 =  np.random.uniform(-0.5, 0.5, (5,3))\n",
    "print(weights_0_1)\n",
    "inputs = np.array([1, 2, 3,4,5])\n",
    "inputs_1 = np.dot(inputs,weights_0_1)\n",
    "print(inputs_1)"
   ]
  },
  {
   "cell_type": "code",
   "execution_count": 4,
   "metadata": {},
   "outputs": [
    {
     "data": {
      "text/plain": [
       "2.0197512399999997"
      ]
     },
     "execution_count": 4,
     "metadata": {},
     "output_type": "execute_result"
    }
   ],
   "source": [
    "l = [ 0.10761236, 0.13300704,0.08303307,0.01834851,0.26472631]\n",
    "inputs = np.array([1, 2, 3,4,5])\n",
    "l2 = l*inputs\n",
    "l2.sum()"
   ]
  },
  {
   "cell_type": "code",
   "execution_count": 102,
   "metadata": {},
   "outputs": [
    {
     "data": {
      "text/plain": [
       "array([ 1,  2,  3,  4,  5, 11])"
      ]
     },
     "execution_count": 102,
     "metadata": {},
     "output_type": "execute_result"
    }
   ],
   "source": [
    "\n",
    "np.append(inputs, 11)\n"
   ]
  },
  {
   "cell_type": "code",
   "execution_count": 109,
   "metadata": {},
   "outputs": [
    {
     "data": {
      "text/plain": [
       "array([ 2, 12, 36, 80])"
      ]
     },
     "execution_count": 109,
     "metadata": {},
     "output_type": "execute_result"
    }
   ],
   "source": [
    "def sigmoid_derivative(val):\n",
    "    return ( val * (1 - val) )\n",
    "\n",
    "target_predict = np.array([1,1,1,1])\n",
    "fact_predict_out = np.array([2,3,4,5])\n",
    "(target_predict - fact_predict_out) * sigmoid_derivative(fact_predict_out)"
   ]
  },
  {
   "cell_type": "code",
   "execution_count": 15,
   "metadata": {},
   "outputs": [
    {
     "name": "stdout",
     "output_type": "stream",
     "text": [
      "[2 0 1 1 1]\n"
     ]
    },
    {
     "data": {
      "text/plain": [
       "array([ 0.70986221,  0.57366845, -1.55359659])"
      ]
     },
     "execution_count": 15,
     "metadata": {},
     "output_type": "execute_result"
    }
   ],
   "source": [
    "n = np.array([2,0,1,1])\n",
    "n = np.append(n, 1) \n",
    "print(n)\n",
    "weights_0_1 = np.random.uniform(-0.5, 0.5, (5, 3))\n",
    "inputs_1 = np.dot(n,weights_0_1)\n",
    "inputs_1\n"
   ]
  },
  {
   "cell_type": "code",
   "execution_count": 19,
   "metadata": {},
   "outputs": [
    {
     "data": {
      "text/plain": [
       "23.5"
      ]
     },
     "execution_count": 19,
     "metadata": {},
     "output_type": "execute_result"
    }
   ],
   "source": [
    "def MSE(d, y):\n",
    "    return 0.5 * np.sum((d-y)**2)\n",
    "d = np.array([0, 0, 1, 0])\n",
    "y = np.array([2, 3, 4, 5])\n",
    "#-2 -3 -3 -5\n",
    "# 4  9  9  25\n",
    "#\n",
    "MSE(d,y)"
   ]
  },
  {
   "cell_type": "code",
   "execution_count": 4,
   "metadata": {},
   "outputs": [
    {
     "name": "stdout",
     "output_type": "stream",
     "text": [
      "[[ 0.24109519 -0.28518315 -0.30845519]\n",
      " [-0.25665082 -0.04776185 -0.20033632]\n",
      " [-0.20289359 -0.21702956 -0.30258498]\n",
      " [ 0.16585842  0.13127477  0.33070176]\n",
      " [-0.13932579 -0.41562836 -0.24051136]]\n",
      "[[25.24109519 -0.28518315 -0.30845519]\n",
      " [24.74334918 -0.04776185 -0.20033632]\n",
      " [24.79710641 -0.21702956 -0.30258498]\n",
      " [25.16585842  0.13127477  0.33070176]\n",
      " [24.86067421 -0.41562836 -0.24051136]]\n"
     ]
    }
   ],
   "source": [
    "import numpy as np\n",
    "weights_0_1 = np.random.uniform(-0.5, 0.5, (5, 3))\n",
    "print(weights_0_1)\n",
    "weights_0_1[:,0]+=5*5*np.array([1,1,1,1,1])\n",
    "print(weights_0_1)"
   ]
  }
 ],
 "metadata": {
  "kernelspec": {
   "display_name": "Python 3",
   "language": "python",
   "name": "python3"
  },
  "language_info": {
   "codemirror_mode": {
    "name": "ipython",
    "version": 3
   },
   "file_extension": ".py",
   "mimetype": "text/x-python",
   "name": "python",
   "nbconvert_exporter": "python",
   "pygments_lexer": "ipython3",
   "version": "3.7.5"
  }
 },
 "nbformat": 4,
 "nbformat_minor": 2
}
