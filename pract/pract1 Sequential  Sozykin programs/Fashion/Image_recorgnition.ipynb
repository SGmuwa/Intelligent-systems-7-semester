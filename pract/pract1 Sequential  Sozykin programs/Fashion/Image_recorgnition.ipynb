{
 "cells": [
  {
   "cell_type": "code",
   "execution_count": 3,
   "metadata": {},
   "outputs": [],
   "source": [
    "from tensorflow.keras.preprocessing import image\n",
    "from tensorflow.keras.models import Sequential\n",
    "from tensorflow.keras.layers import Dense\n",
    "from tensorflow.keras import utils\n",
    "import numpy as np\n",
    "from PIL import Image\n",
    "from tensorflow.keras.models import load_model\n",
    "\n",
    "#Загрузка сети из файла\n",
    "model = load_model(\"fashion_mnist_dense.h5\")\n",
    "img_path = \"boot.jpg\"\n",
    "img = image.load_img(img_path, target_size=(28, 28), color_mode = \"grayscale\")\n",
    "# Преобразуем картинку в массив numpy\n",
    "x = image.img_to_array(img)\n",
    "# Меняем форму массива в плоский вектор\n",
    "x = x.reshape(1, 784)\n",
    "# Инвертируем изображение так как старое представление цветов (0 - белое, 255 - чёрное)\n",
    "x = 255 - x\n",
    "# Нормализуем изображение\n",
    "x /= 255"
   ]
  },
  {
   "cell_type": "code",
   "execution_count": 5,
   "metadata": {},
   "outputs": [
    {
     "data": {
      "image/png": "[encoded data removed]",
      "text/plain": [
       "<Figure size 432x288 with 1 Axes>"
      ]
     },
     "metadata": {
      "needs_background": "light"
     },
     "output_type": "display_data"
    }
   ],
   "source": [
    "#Image(img_path,width = 150,height=150)\n",
    "import matplotlib.pyplot as plt\n",
    "plt.imshow(x,cmap=plt.cm.binary)\n",
    "plt.show()\n"
   ]
  },
  {
   "cell_type": "code",
   "execution_count": 20,
   "metadata": {},
   "outputs": [],
   "source": [
    "\n",
    "prediction = model.predict(x)\n"
   ]
  },
  {
   "cell_type": "code",
   "execution_count": 21,
   "metadata": {},
   "outputs": [
    {
     "data": {
      "text/plain": [
       "array([[6.9949701e-02, 1.7139966e-03, 9.4250999e-02, 1.6451919e-02,\n",
       "        9.4070390e-02, 2.1578504e-04, 2.0847088e-01, 5.3962444e-06,\n",
       "        5.1487082e-01, 1.0621088e-07]], dtype=float32)"
      ]
     },
     "execution_count": 21,
     "metadata": {},
     "output_type": "execute_result"
    }
   ],
   "source": [
    "prediction"
   ]
  },
  {
   "cell_type": "code",
   "execution_count": 22,
   "metadata": {},
   "outputs": [
    {
     "name": "stdout",
     "output_type": "stream",
     "text": [
      "Номер класса: 8\n",
      "Название класса: сумка\n"
     ]
    }
   ],
   "source": [
    "classes = ['футболка', 'брюки', 'свитер', 'платье', 'пальто', 'туфли', 'рубашка', 'кроссовки', 'сумка', 'ботинки']\n",
    "prediction = np.argmax(prediction)\n",
    "print(\"Номер класса:\", prediction)\n",
    "print(\"Название класса:\", classes[prediction])"
   ]
  },
  {
   "cell_type": "code",
   "execution_count": null,
   "metadata": {},
   "outputs": [],
   "source": []
  }
 ],
 "metadata": {
  "kernelspec": {
   "display_name": "Python 3",
   "language": "python",
   "name": "python3"
  },
  "language_info": {
   "codemirror_mode": {
    "name": "ipython",
    "version": 3
   },
   "file_extension": ".py",
   "mimetype": "text/x-python",
   "name": "python",
   "nbconvert_exporter": "python",
   "pygments_lexer": "ipython3",
   "version": "3.7.3"
  }
 },
 "nbformat": 4,
 "nbformat_minor": 2
}
