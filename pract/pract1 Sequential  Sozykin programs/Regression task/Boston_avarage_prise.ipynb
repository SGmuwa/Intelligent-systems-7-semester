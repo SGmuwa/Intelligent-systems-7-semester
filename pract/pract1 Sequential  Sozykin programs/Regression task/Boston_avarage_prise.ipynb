{
 "cells": [
  {
   "cell_type": "code",
   "execution_count": 10,
   "metadata": {},
   "outputs": [],
   "source": [
    "import numpy as np\n",
    "from tensorflow.keras.datasets import boston_housing\n",
    "from tensorflow.keras.models import Sequential\n",
    "from tensorflow.keras.layers import Dense"
   ]
  },
  {
   "cell_type": "code",
   "execution_count": 11,
   "metadata": {},
   "outputs": [],
   "source": [
    "np.random.seed(42)"
   ]
  },
  {
   "cell_type": "code",
   "execution_count": 12,
   "metadata": {},
   "outputs": [],
   "source": [
    "(x_train,y_train),(x_test,y_test) =  boston_housing.load_data()"
   ]
  },
  {
   "cell_type": "code",
   "execution_count": 13,
   "metadata": {},
   "outputs": [
    {
     "data": {
      "text/plain": [
       "13"
      ]
     },
     "execution_count": 13,
     "metadata": {},
     "output_type": "execute_result"
    }
   ],
   "source": [
    "mean = x_train.mean(axis = 0)\n",
    "std = x_train.std(axis = 0)\n",
    "x_train  = x_train -mean\n",
    "x_train =x_train/std\n",
    "x_test =x_test- mean\n",
    "x_test =x_test/std\n",
    "\n",
    "x_train.shape[1]"
   ]
  },
  {
   "cell_type": "code",
   "execution_count": 14,
   "metadata": {},
   "outputs": [
    {
     "data": {
      "text/plain": [
       "(102, 13)"
      ]
     },
     "execution_count": 14,
     "metadata": {},
     "output_type": "execute_result"
    }
   ],
   "source": [
    "x_test.shape #102 строки и 13 признаков"
   ]
  },
  {
   "cell_type": "code",
   "execution_count": 15,
   "metadata": {},
   "outputs": [],
   "source": [
    "model = Sequential()\n",
    "model.add(Dense(128, activation='relu', input_shape=(x_train.shape[1],)))\n",
    "model.add(Dense(1))\n",
    "model.compile(optimizer='adam', loss='mse', metrics=['mae'])"
   ]
  },
  {
   "cell_type": "code",
   "execution_count": 16,
   "metadata": {},
   "outputs": [
    {
     "name": "stdout",
     "output_type": "stream",
     "text": [
      "Train on 404 samples\n",
      "Epoch 1/100\n",
      "404/404 - 1s - loss: 305.8019 - mae: 14.6386\n",
      "Epoch 2/100\n",
      "404/404 - 1s - loss: 43.6827 - mae: 4.5925\n",
      "Epoch 3/100\n",
      "404/404 - 1s - loss: 25.9687 - mae: 3.4838\n",
      "Epoch 4/100\n",
      "404/404 - 1s - loss: 21.6750 - mae: 3.2376\n",
      "Epoch 5/100\n",
      "404/404 - 1s - loss: 18.4522 - mae: 3.0309\n",
      "Epoch 6/100\n",
      "404/404 - 1s - loss: 16.2253 - mae: 2.8506\n",
      "Epoch 7/100\n",
      "404/404 - 1s - loss: 14.0137 - mae: 2.6148\n",
      "Epoch 8/100\n",
      "404/404 - 1s - loss: 12.4825 - mae: 2.5240\n",
      "Epoch 9/100\n",
      "404/404 - 1s - loss: 11.2460 - mae: 2.4109\n",
      "Epoch 10/100\n",
      "404/404 - 1s - loss: 10.6628 - mae: 2.3210\n",
      "Epoch 11/100\n",
      "404/404 - 1s - loss: 10.1619 - mae: 2.2533\n",
      "Epoch 12/100\n",
      "404/404 - 1s - loss: 9.8765 - mae: 2.2095\n",
      "Epoch 13/100\n",
      "404/404 - 1s - loss: 9.2055 - mae: 2.1710\n",
      "Epoch 14/100\n",
      "404/404 - 1s - loss: 9.1499 - mae: 2.1177\n",
      "Epoch 15/100\n",
      "404/404 - 1s - loss: 8.6459 - mae: 2.0651\n",
      "Epoch 16/100\n",
      "404/404 - 1s - loss: 8.2894 - mae: 2.0507\n",
      "Epoch 17/100\n",
      "404/404 - 1s - loss: 8.4118 - mae: 2.0747\n",
      "Epoch 18/100\n",
      "404/404 - 1s - loss: 8.2848 - mae: 2.0172\n",
      "Epoch 19/100\n",
      "404/404 - 1s - loss: 8.0316 - mae: 2.0142\n",
      "Epoch 20/100\n",
      "404/404 - 1s - loss: 8.0527 - mae: 2.0209\n",
      "Epoch 21/100\n",
      "404/404 - 1s - loss: 8.0957 - mae: 1.9823\n",
      "Epoch 22/100\n",
      "404/404 - 1s - loss: 7.7391 - mae: 1.9870\n",
      "Epoch 23/100\n",
      "404/404 - 1s - loss: 7.4779 - mae: 1.9008\n",
      "Epoch 24/100\n",
      "404/404 - 1s - loss: 7.5567 - mae: 1.9318\n",
      "Epoch 25/100\n",
      "404/404 - 1s - loss: 7.5114 - mae: 1.9458\n",
      "Epoch 26/100\n",
      "404/404 - 1s - loss: 7.1230 - mae: 1.9024\n",
      "Epoch 27/100\n",
      "404/404 - 1s - loss: 7.0222 - mae: 1.8410\n",
      "Epoch 28/100\n",
      "404/404 - 1s - loss: 7.0798 - mae: 1.8922\n",
      "Epoch 29/100\n",
      "404/404 - 1s - loss: 7.0816 - mae: 1.8954\n",
      "Epoch 30/100\n",
      "404/404 - 1s - loss: 7.0615 - mae: 1.8889\n",
      "Epoch 31/100\n",
      "404/404 - 1s - loss: 7.0445 - mae: 1.8465\n",
      "Epoch 32/100\n",
      "404/404 - 1s - loss: 6.8744 - mae: 1.8541\n",
      "Epoch 33/100\n",
      "404/404 - 1s - loss: 6.5674 - mae: 1.8142\n",
      "Epoch 34/100\n",
      "404/404 - 1s - loss: 6.8693 - mae: 1.8453\n",
      "Epoch 35/100\n",
      "404/404 - 1s - loss: 6.4695 - mae: 1.7870\n",
      "Epoch 36/100\n",
      "404/404 - 1s - loss: 6.3982 - mae: 1.8093\n",
      "Epoch 37/100\n",
      "404/404 - 1s - loss: 6.4557 - mae: 1.7644\n",
      "Epoch 38/100\n",
      "404/404 - 1s - loss: 6.4839 - mae: 1.8064\n",
      "Epoch 39/100\n",
      "404/404 - 1s - loss: 6.7050 - mae: 1.8355\n",
      "Epoch 40/100\n",
      "404/404 - 1s - loss: 6.2112 - mae: 1.7608\n",
      "Epoch 41/100\n",
      "404/404 - 1s - loss: 6.4204 - mae: 1.7901\n",
      "Epoch 42/100\n",
      "404/404 - 1s - loss: 6.3015 - mae: 1.7596\n",
      "Epoch 43/100\n",
      "404/404 - 1s - loss: 6.3282 - mae: 1.7704\n",
      "Epoch 44/100\n",
      "404/404 - 1s - loss: 6.2297 - mae: 1.7589\n",
      "Epoch 45/100\n",
      "404/404 - 1s - loss: 6.0364 - mae: 1.6917\n",
      "Epoch 46/100\n",
      "404/404 - 1s - loss: 6.0181 - mae: 1.7532\n",
      "Epoch 47/100\n",
      "404/404 - 1s - loss: 6.0399 - mae: 1.7033\n",
      "Epoch 48/100\n",
      "404/404 - 1s - loss: 6.0260 - mae: 1.7124\n",
      "Epoch 49/100\n",
      "404/404 - 1s - loss: 5.9852 - mae: 1.7316\n",
      "Epoch 50/100\n",
      "404/404 - 1s - loss: 5.9857 - mae: 1.6890\n",
      "Epoch 51/100\n",
      "404/404 - 1s - loss: 6.1256 - mae: 1.7420\n",
      "Epoch 52/100\n",
      "404/404 - 1s - loss: 5.9422 - mae: 1.7242\n",
      "Epoch 53/100\n",
      "404/404 - 1s - loss: 5.5830 - mae: 1.6498\n",
      "Epoch 54/100\n",
      "404/404 - 1s - loss: 5.7121 - mae: 1.6780\n",
      "Epoch 55/100\n",
      "404/404 - 1s - loss: 5.7365 - mae: 1.6786\n",
      "Epoch 56/100\n",
      "404/404 - 1s - loss: 5.6865 - mae: 1.6753\n",
      "Epoch 57/100\n",
      "404/404 - 1s - loss: 5.6641 - mae: 1.6556\n",
      "Epoch 58/100\n",
      "404/404 - 1s - loss: 5.5121 - mae: 1.6365\n",
      "Epoch 59/100\n",
      "404/404 - 1s - loss: 5.8946 - mae: 1.6920\n",
      "Epoch 60/100\n",
      "404/404 - 1s - loss: 5.5477 - mae: 1.6465\n",
      "Epoch 61/100\n",
      "404/404 - 1s - loss: 5.3037 - mae: 1.5783\n",
      "Epoch 62/100\n",
      "404/404 - 1s - loss: 5.2497 - mae: 1.6191\n",
      "Epoch 63/100\n",
      "404/404 - 1s - loss: 5.5511 - mae: 1.6510\n",
      "Epoch 64/100\n",
      "404/404 - 1s - loss: 5.5122 - mae: 1.6431\n",
      "Epoch 65/100\n",
      "404/404 - 1s - loss: 5.4469 - mae: 1.6595\n",
      "Epoch 66/100\n",
      "404/404 - 1s - loss: 5.4031 - mae: 1.6009\n",
      "Epoch 67/100\n",
      "404/404 - 1s - loss: 5.3778 - mae: 1.6346\n",
      "Epoch 68/100\n",
      "404/404 - 1s - loss: 5.3646 - mae: 1.5982\n",
      "Epoch 69/100\n",
      "404/404 - 1s - loss: 5.2303 - mae: 1.6360\n",
      "Epoch 70/100\n",
      "404/404 - 1s - loss: 5.2413 - mae: 1.6026\n",
      "Epoch 71/100\n",
      "404/404 - 1s - loss: 5.1193 - mae: 1.5506\n",
      "Epoch 72/100\n",
      "404/404 - 1s - loss: 5.1112 - mae: 1.5861\n",
      "Epoch 73/100\n",
      "404/404 - 1s - loss: 5.0555 - mae: 1.5827\n",
      "Epoch 74/100\n",
      "404/404 - 1s - loss: 5.0812 - mae: 1.5801\n",
      "Epoch 75/100\n",
      "404/404 - 1s - loss: 4.9686 - mae: 1.5599\n",
      "Epoch 76/100\n",
      "404/404 - 1s - loss: 5.1458 - mae: 1.5855\n",
      "Epoch 77/100\n",
      "404/404 - 1s - loss: 4.9147 - mae: 1.5602\n",
      "Epoch 78/100\n",
      "404/404 - 1s - loss: 4.8711 - mae: 1.5727\n",
      "Epoch 79/100\n",
      "404/404 - 1s - loss: 4.9612 - mae: 1.5417\n",
      "Epoch 80/100\n",
      "404/404 - 1s - loss: 4.7865 - mae: 1.5161\n",
      "Epoch 81/100\n",
      "404/404 - 1s - loss: 4.9100 - mae: 1.5497\n",
      "Epoch 82/100\n",
      "404/404 - 1s - loss: 4.7065 - mae: 1.5035\n",
      "Epoch 83/100\n",
      "404/404 - 1s - loss: 4.6160 - mae: 1.4709\n",
      "Epoch 84/100\n",
      "404/404 - 1s - loss: 4.7244 - mae: 1.5600\n",
      "Epoch 85/100\n",
      "404/404 - 1s - loss: 4.8919 - mae: 1.5229\n",
      "Epoch 86/100\n",
      "404/404 - 1s - loss: 4.7167 - mae: 1.5355\n",
      "Epoch 87/100\n",
      "404/404 - 1s - loss: 4.8659 - mae: 1.5886\n",
      "Epoch 88/100\n",
      "404/404 - 1s - loss: 4.5479 - mae: 1.4859\n",
      "Epoch 89/100\n",
      "404/404 - 1s - loss: 4.5806 - mae: 1.5170\n",
      "Epoch 90/100\n",
      "404/404 - 1s - loss: 4.5992 - mae: 1.4993\n",
      "Epoch 91/100\n",
      "404/404 - 1s - loss: 4.4111 - mae: 1.4502\n",
      "Epoch 92/100\n",
      "404/404 - 1s - loss: 4.5484 - mae: 1.4916\n",
      "Epoch 93/100\n",
      "404/404 - 1s - loss: 4.6810 - mae: 1.5199\n",
      "Epoch 94/100\n",
      "404/404 - 1s - loss: 4.4063 - mae: 1.4864\n",
      "Epoch 95/100\n",
      "404/404 - 1s - loss: 4.2925 - mae: 1.4286\n",
      "Epoch 96/100\n",
      "404/404 - 1s - loss: 4.4694 - mae: 1.5194\n",
      "Epoch 97/100\n",
      "404/404 - 1s - loss: 4.4070 - mae: 1.4819\n",
      "Epoch 98/100\n",
      "404/404 - 1s - loss: 4.5189 - mae: 1.4950\n",
      "Epoch 99/100\n",
      "404/404 - 1s - loss: 4.2791 - mae: 1.4759\n",
      "Epoch 100/100\n",
      "404/404 - 1s - loss: 4.4386 - mae: 1.4644\n"
     ]
    },
    {
     "data": {
      "text/plain": [
       "<tensorflow.python.keras.callbacks.History at 0x28796268c50>"
      ]
     },
     "execution_count": 16,
     "metadata": {},
     "output_type": "execute_result"
    }
   ],
   "source": [
    "model.fit(x_train, y_train, epochs=100, batch_size=1, verbose=2)"
   ]
  },
  {
   "cell_type": "code",
   "execution_count": 17,
   "metadata": {},
   "outputs": [],
   "source": [
    "#Оценка точности работы сети\n",
    "mse, mae = model.evaluate(x_test, y_test, verbose=0)"
   ]
  },
  {
   "cell_type": "code",
   "execution_count": 18,
   "metadata": {},
   "outputs": [
    {
     "name": "stdout",
     "output_type": "stream",
     "text": [
      "Средняя абсолютная ошибка (тысяч долларов): 2.472023\n"
     ]
    }
   ],
   "source": [
    "print(\"Средняя абсолютная ошибка (тысяч долларов):\", mae)"
   ]
  },
  {
   "cell_type": "code",
   "execution_count": 19,
   "metadata": {},
   "outputs": [],
   "source": [
    "#Использование сети для предсказания цен недвижимости\n",
    "pred = model.predict(x_test)"
   ]
  },
  {
   "cell_type": "code",
   "execution_count": 25,
   "metadata": {},
   "outputs": [
    {
     "name": "stdout",
     "output_type": "stream",
     "text": [
      "Предсказанная стоимость: 18.244532 , правильная стоимость: 18.8\n"
     ]
    }
   ],
   "source": [
    "print(\"Предсказанная стоимость:\", pred[1][0], \", правильная стоимость:\", y_test[1])"
   ]
  },
  {
   "cell_type": "code",
   "execution_count": 26,
   "metadata": {},
   "outputs": [
    {
     "data": {
      "text/plain": [
       "array([[ 9.191659 ],\n",
       "       [18.244532 ],\n",
       "       [21.846415 ],\n",
       "       [34.115192 ],\n",
       "       [24.635225 ],\n",
       "       [22.801407 ],\n",
       "       [27.948614 ],\n",
       "       [21.511139 ],\n",
       "       [19.627092 ],\n",
       "       [21.45383  ],\n",
       "       [18.046911 ],\n",
       "       [16.464132 ],\n",
       "       [16.246626 ],\n",
       "       [42.202274 ],\n",
       "       [20.08591  ],\n",
       "       [20.128164 ],\n",
       "       [25.63448  ],\n",
       "       [18.592764 ],\n",
       "       [17.191803 ],\n",
       "       [20.756945 ],\n",
       "       [11.918639 ],\n",
       "       [11.705659 ],\n",
       "       [22.412043 ],\n",
       "       [16.345894 ],\n",
       "       [18.43439  ],\n",
       "       [23.314907 ],\n",
       "       [26.960575 ],\n",
       "       [28.497866 ],\n",
       "       [12.305906 ],\n",
       "       [19.17124  ],\n",
       "       [20.441463 ],\n",
       "       [15.276557 ],\n",
       "       [33.78459  ],\n",
       "       [24.006653 ],\n",
       "       [17.585556 ],\n",
       "       [ 7.488515 ],\n",
       "       [17.328352 ],\n",
       "       [14.791405 ],\n",
       "       [18.686651 ],\n",
       "       [26.355095 ],\n",
       "       [31.004177 ],\n",
       "       [26.980927 ],\n",
       "       [13.243915 ],\n",
       "       [44.620956 ],\n",
       "       [28.376759 ],\n",
       "       [25.809069 ],\n",
       "       [28.281515 ],\n",
       "       [19.216934 ],\n",
       "       [22.125486 ],\n",
       "       [23.140968 ],\n",
       "       [34.843002 ],\n",
       "       [18.966421 ],\n",
       "       [10.7518425],\n",
       "       [14.0561285],\n",
       "       [36.359905 ],\n",
       "       [27.8451   ],\n",
       "       [12.158977 ],\n",
       "       [48.56981  ],\n",
       "       [35.41358  ],\n",
       "       [23.142601 ],\n",
       "       [25.43152  ],\n",
       "       [16.240065 ],\n",
       "       [15.62385  ],\n",
       "       [20.632614 ],\n",
       "       [23.849058 ],\n",
       "       [19.322367 ],\n",
       "       [14.182623 ],\n",
       "       [21.290602 ],\n",
       "       [12.617005 ],\n",
       "       [ 7.727218 ],\n",
       "       [19.684479 ],\n",
       "       [30.771568 ],\n",
       "       [23.912628 ],\n",
       "       [13.130789 ],\n",
       "       [26.175428 ],\n",
       "       [19.300745 ],\n",
       "       [18.282656 ],\n",
       "       [24.890003 ],\n",
       "       [35.66468  ],\n",
       "       [10.94738  ],\n",
       "       [22.51941  ],\n",
       "       [38.216236 ],\n",
       "       [15.773581 ],\n",
       "       [13.484305 ],\n",
       "       [18.105837 ],\n",
       "       [17.94455  ],\n",
       "       [22.203377 ],\n",
       "       [20.361393 ],\n",
       "       [20.627146 ],\n",
       "       [30.402578 ],\n",
       "       [20.4833   ],\n",
       "       [18.44902  ],\n",
       "       [27.293163 ],\n",
       "       [44.569798 ],\n",
       "       [36.518127 ],\n",
       "       [20.55559  ],\n",
       "       [35.34483  ],\n",
       "       [43.643616 ],\n",
       "       [25.645609 ],\n",
       "       [47.071278 ],\n",
       "       [28.017075 ],\n",
       "       [18.879644 ]], dtype=float32)"
      ]
     },
     "execution_count": 26,
     "metadata": {},
     "output_type": "execute_result"
    }
   ],
   "source": [
    "pred"
   ]
  },
  {
   "cell_type": "code",
   "execution_count": 27,
   "metadata": {},
   "outputs": [],
   "source": [
    "(x1_train,y1_train),(x1_test,y1_test) =  boston_housing.load_data()"
   ]
  },
  {
   "cell_type": "code",
   "execution_count": 28,
   "metadata": {},
   "outputs": [
    {
     "data": {
      "text/plain": [
       "numpy.ndarray"
      ]
     },
     "execution_count": 28,
     "metadata": {},
     "output_type": "execute_result"
    }
   ],
   "source": [
    "type(x1_train)"
   ]
  }
 ],
 "metadata": {
  "kernelspec": {
   "display_name": "Python 3",
   "language": "python",
   "name": "python3"
  },
  "language_info": {
   "codemirror_mode": {
    "name": "ipython",
    "version": 3
   },
   "file_extension": ".py",
   "mimetype": "text/x-python",
   "name": "python",
   "nbconvert_exporter": "python",
   "pygments_lexer": "ipython3",
   "version": "3.7.3"
  }
 },
 "nbformat": 4,
 "nbformat_minor": 2
}
