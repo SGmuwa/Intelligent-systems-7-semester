{
 "cells": [
  {
   "cell_type": "code",
   "execution_count": null,
   "metadata": {},
   "outputs": [],
   "source": [
    "# Генератором в языке Python называется объект, действующий как итератор: его\n",
    "# можно использовать с инструкцией цикла for ... in. Работа генераторов основана\n",
    "# на использовании инструкции yield."
   ]
  },
  {
   "cell_type": "code",
   "execution_count": 10,
   "metadata": {},
   "outputs": [
    {
     "name": "stdout",
     "output_type": "stream",
     "text": [
      "<generator object createGenerator at 0x0000014F56E02138>\n",
      "0\n",
      "1\n",
      "4\n"
     ]
    }
   ],
   "source": [
    "#Чтобы освоить yield, вы должны понимать, что при вызове функции код, \n",
    "#написанный в теле функции, не запускается. Функция возвращает только объект-генератор\n",
    "#Затем ваш код будет продолжаться с того места, где он остановился, \n",
    "#каждый раз, когда for использует генератор.\n",
    "\n",
    "\n",
    "\n",
    "# В первый раз, когда for вызывает объект генератора, созданный из вашей функции, он будет запускать код в \n",
    "#вашей функции с самого начала, пока не достигнет yield, затем вернет первое значение цикла. \n",
    "#Затем каждый следующий вызов запустит цикл, который вы написали в функции, еще раз и будет возвращать следующее значение,\n",
    "#пока не будет возвращено никакого значения.\n",
    "\n",
    "# Генератор считается пустым после запуска функции, но больше не срабатывает yield. \n",
    "#Это может быть из-за того, что цикл закончился, или из-за того, что вы больше не удовлетворяете \"if/else\".\n",
    "def createGenerator():\n",
    "    mylist = range(3)\n",
    "    for i in mylist:\n",
    "        yield i*i #возвращает генератор\n",
    "\n",
    "mygenerator = createGenerator() # create a generator\n",
    "print(mygenerator) # mygenerator is an object!\n",
    "for i in mygenerator:\n",
    "    print(i)\n",
    "\n",
    "    \n",
    "    \n",
    "#Генераторы являются итераторами, своего рода итерация , которую вы можете повторять только один раз. Генераторы не хранят все значения в памяти, они генерируют значения на лету:    \n",
    "#В данном случае, с практической точки зрения, это бесполезный пример. Ощутимую пользу вы получите в ситуации, когда ваша функция должна будет возвращать достаточно большой объём данных, но использовать их надо будет только один раз.     \n"
   ]
  },
  {
   "cell_type": "code",
   "execution_count": 11,
   "metadata": {},
   "outputs": [
    {
     "name": "stdout",
     "output_type": "stream",
     "text": [
      "1\n",
      "2\n",
      "3\n",
      "4\n",
      "5\n"
     ]
    }
   ],
   "source": [
    "def generator():\n",
    "    i = 0\n",
    "    while True:\n",
    "        i += 1\n",
    "        yield i\n",
    "for item in generator():\n",
    "    print(item)\n",
    "    if item > 4:\n",
    "        break"
   ]
  },
  {
   "cell_type": "code",
   "execution_count": 8,
   "metadata": {},
   "outputs": [
    {
     "name": "stdout",
     "output_type": "stream",
     "text": [
      "<class 'generator'>\n",
      "0\n",
      "1\n",
      "4\n"
     ]
    }
   ],
   "source": [
    "mygenerator = (x*x for x in range(3))\n",
    "print(type(mygenerator))\n",
    "\n",
    "for i in mygenerator:\n",
    "    print(i)\n",
    "    \n",
    "for i in mygenerator:\n",
    "    print(\"two\")\n",
    "    print(i)"
   ]
  }
 ],
 "metadata": {
  "kernelspec": {
   "display_name": "Python 3",
   "language": "python",
   "name": "python3"
  },
  "language_info": {
   "codemirror_mode": {
    "name": "ipython",
    "version": 3
   },
   "file_extension": ".py",
   "mimetype": "text/x-python",
   "name": "python",
   "nbconvert_exporter": "python",
   "pygments_lexer": "ipython3",
   "version": "3.7.3"
  }
 },
 "nbformat": 4,
 "nbformat_minor": 2
}
